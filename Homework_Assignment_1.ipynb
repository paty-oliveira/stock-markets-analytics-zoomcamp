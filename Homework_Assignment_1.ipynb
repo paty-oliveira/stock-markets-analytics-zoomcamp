{
  "nbformat": 4,
  "nbformat_minor": 0,
  "metadata": {
    "colab": {
      "provenance": [],
      "authorship_tag": "ABX9TyMFpz2IUEg8HtQPzf1ETIuB",
      "include_colab_link": true
    },
    "kernelspec": {
      "name": "python3",
      "display_name": "Python 3"
    },
    "language_info": {
      "name": "python"
    }
  },
  "cells": [
    {
      "cell_type": "markdown",
      "metadata": {
        "id": "view-in-github",
        "colab_type": "text"
      },
      "source": [
        "<a href=\"https://colab.research.google.com/github/paty-oliveira/stock-markets-analytics-zoomcamp/blob/main/Homework_Assignment_1.ipynb\" target=\"_parent\"><img src=\"https://colab.research.google.com/assets/colab-badge.svg\" alt=\"Open In Colab\"/></a>"
      ]
    },
    {
      "cell_type": "code",
      "source": [
        "!pip install yfinance\n",
        "!pip install yahoo_earnings_calendar\n",
        "\n",
        "import pandas_datareader as pdr\n",
        "from datetime import date\n",
        "import pandas as pd\n",
        "import yfinance as yf\n",
        "from yahoo_earnings_calendar import YahooEarningsCalendar\n",
        "import datetime\n",
        "\n"
      ],
      "metadata": {
        "colab": {
          "base_uri": "https://localhost:8080/"
        },
        "id": "ZGOUBw4jBcDk",
        "outputId": "4a0b3fe2-4c5f-4528-b7dd-a00a0616a0d3"
      },
      "execution_count": null,
      "outputs": [
        {
          "output_type": "stream",
          "name": "stdout",
          "text": [
            "Requirement already satisfied: yfinance in /usr/local/lib/python3.10/dist-packages (0.2.38)\n",
            "Requirement already satisfied: pandas>=1.3.0 in /usr/local/lib/python3.10/dist-packages (from yfinance) (2.0.3)\n",
            "Requirement already satisfied: numpy>=1.16.5 in /usr/local/lib/python3.10/dist-packages (from yfinance) (1.25.2)\n",
            "Requirement already satisfied: requests>=2.31 in /usr/local/lib/python3.10/dist-packages (from yfinance) (2.31.0)\n",
            "Requirement already satisfied: multitasking>=0.0.7 in /usr/local/lib/python3.10/dist-packages (from yfinance) (0.0.11)\n",
            "Requirement already satisfied: lxml>=4.9.1 in /usr/local/lib/python3.10/dist-packages (from yfinance) (4.9.4)\n",
            "Requirement already satisfied: appdirs>=1.4.4 in /usr/local/lib/python3.10/dist-packages (from yfinance) (1.4.4)\n",
            "Requirement already satisfied: pytz>=2022.5 in /usr/local/lib/python3.10/dist-packages (from yfinance) (2023.4)\n",
            "Requirement already satisfied: frozendict>=2.3.4 in /usr/local/lib/python3.10/dist-packages (from yfinance) (2.4.2)\n",
            "Requirement already satisfied: peewee>=3.16.2 in /usr/local/lib/python3.10/dist-packages (from yfinance) (3.17.3)\n",
            "Requirement already satisfied: beautifulsoup4>=4.11.1 in /usr/local/lib/python3.10/dist-packages (from yfinance) (4.12.3)\n",
            "Requirement already satisfied: html5lib>=1.1 in /usr/local/lib/python3.10/dist-packages (from yfinance) (1.1)\n",
            "Requirement already satisfied: soupsieve>1.2 in /usr/local/lib/python3.10/dist-packages (from beautifulsoup4>=4.11.1->yfinance) (2.5)\n",
            "Requirement already satisfied: six>=1.9 in /usr/local/lib/python3.10/dist-packages (from html5lib>=1.1->yfinance) (1.16.0)\n",
            "Requirement already satisfied: webencodings in /usr/local/lib/python3.10/dist-packages (from html5lib>=1.1->yfinance) (0.5.1)\n",
            "Requirement already satisfied: python-dateutil>=2.8.2 in /usr/local/lib/python3.10/dist-packages (from pandas>=1.3.0->yfinance) (2.8.2)\n",
            "Requirement already satisfied: tzdata>=2022.1 in /usr/local/lib/python3.10/dist-packages (from pandas>=1.3.0->yfinance) (2024.1)\n",
            "Requirement already satisfied: charset-normalizer<4,>=2 in /usr/local/lib/python3.10/dist-packages (from requests>=2.31->yfinance) (3.3.2)\n",
            "Requirement already satisfied: idna<4,>=2.5 in /usr/local/lib/python3.10/dist-packages (from requests>=2.31->yfinance) (3.7)\n",
            "Requirement already satisfied: urllib3<3,>=1.21.1 in /usr/local/lib/python3.10/dist-packages (from requests>=2.31->yfinance) (2.0.7)\n",
            "Requirement already satisfied: certifi>=2017.4.17 in /usr/local/lib/python3.10/dist-packages (from requests>=2.31->yfinance) (2024.2.2)\n",
            "Requirement already satisfied: yahoo_earnings_calendar in /usr/local/lib/python3.10/dist-packages (0.6.0)\n",
            "Requirement already satisfied: requests in /usr/local/lib/python3.10/dist-packages (from yahoo_earnings_calendar) (2.31.0)\n",
            "Requirement already satisfied: charset-normalizer<4,>=2 in /usr/local/lib/python3.10/dist-packages (from requests->yahoo_earnings_calendar) (3.3.2)\n",
            "Requirement already satisfied: idna<4,>=2.5 in /usr/local/lib/python3.10/dist-packages (from requests->yahoo_earnings_calendar) (3.7)\n",
            "Requirement already satisfied: urllib3<3,>=1.21.1 in /usr/local/lib/python3.10/dist-packages (from requests->yahoo_earnings_calendar) (2.0.7)\n",
            "Requirement already satisfied: certifi>=2017.4.17 in /usr/local/lib/python3.10/dist-packages (from requests->yahoo_earnings_calendar) (2024.2.2)\n"
          ]
        }
      ]
    },
    {
      "cell_type": "markdown",
      "source": [
        "**Question 1:** What is the average growth (in %) of GDP in 2023?\n"
      ],
      "metadata": {
        "id": "pgndtfOpIWX4"
      }
    },
    {
      "cell_type": "code",
      "execution_count": null,
      "metadata": {
        "colab": {
          "base_uri": "https://localhost:8080/"
        },
        "id": "y-tg5WaNPw5m",
        "outputId": "2c743e0e-5388-4971-d445-fab3ab860085"
      },
      "outputs": [
        {
          "output_type": "stream",
          "name": "stdout",
          "text": [
            "Mean of GDPC:  2.5\n"
          ]
        }
      ],
      "source": [
        "end = date.today()\n",
        "start = \"2022-01-01\"\n",
        "\n",
        "gdpc_series = pdr.DataReader(\"GDPC1\", \"fred\", start=start, end=end)\n",
        "\n",
        "gdpc_series[\"YoY_Growth\"] = gdpc_series[\"GDPC1\"].pct_change(4) * 100\n",
        "\n",
        "gdp_2023 = gdpc_series.tail(4)\n",
        "\n",
        "average_growth_2023 = round(gdp_2023[\"YoY_Growth\"].mean(), 1)\n",
        "\n",
        "print(\"Mean of GDPC: \", average_growth_2023)"
      ]
    },
    {
      "cell_type": "markdown",
      "source": [
        "**Question 2:** Find the min value of (dgs10-dgs2) after since year 2000 (2000-01-01) and write it down as an answer, round to 1 digit after the decimal point.\n",
        "\n"
      ],
      "metadata": {
        "id": "DatLT93SIiKy"
      }
    },
    {
      "cell_type": "code",
      "source": [
        "start = \"2000-01-01\"\n",
        "\n",
        "dgs2 = pdr.DataReader(\"DGS2\", \"fred\", start=start)\n",
        "dgs10 = pdr.DataReader(\"DGS10\", \"fred\", start=start)\n",
        "\n",
        "treasury_yield = pd.DataFrame.join(dgs2, dgs10)\n",
        "treasury_yield[\"diff\"] = treasury_yield[\"DGS10\"] - treasury_yield[\"DGS2\"]\n",
        "\n",
        "min_treasury_yield = treasury_yield[\"diff\"].min()\n",
        "\n",
        "print(\"Minimum of Yield: \", min_treasury_yield)"
      ],
      "metadata": {
        "colab": {
          "base_uri": "https://localhost:8080/"
        },
        "id": "b5beAjtCIoD3",
        "outputId": "5b06b859-cfef-4c57-d8db-31e76d1b7676"
      },
      "execution_count": null,
      "outputs": [
        {
          "output_type": "stream",
          "name": "stdout",
          "text": [
            "Minimum of Yield:  -1.0800000000000005\n"
          ]
        }
      ]
    },
    {
      "cell_type": "markdown",
      "source": [
        "**Question 3:** Compare S&P 500 and IPC Mexico indexes by the 5 year growth and write down the largest value as an answer (%)\n",
        "\n"
      ],
      "metadata": {
        "id": "T1qpFS_oIouU"
      }
    },
    {
      "cell_type": "code",
      "source": [
        "start= \"2019-04-09\"\n",
        "end = \"2024-04-09\"\n",
        "\n",
        "sp500 = yf.Ticker(\"^GSPC\")\n",
        "sp500_historic_data = sp500.history(interval=\"1d\", start=start, end=end)\n",
        "sp500_historic_data.head()\n",
        "\n",
        "ipc = yf.Ticker(\"^MXX\")\n",
        "ipc_historic_data = ipc.history(interval=\"1d\", start=start, end=end)\n",
        "ipc_historic_data.head()\n",
        "\n",
        "sp500_growth = (sp500_historic_data[\"Close\"].iloc[-1] / sp500_historic_data[\"Close\"].iloc[0] - 1 ) * 100\n",
        "print(\"SP500 Growth: \", sp500_growth)\n",
        "\n",
        "ipc_growth = (ipc_historic_data[\"Close\"].iloc[-1] / ipc_historic_data[\"Close\"].iloc[0] - 1) * 100\n",
        "print(\"IPC Mexico Growth: \", ipc_growth)"
      ],
      "metadata": {
        "colab": {
          "base_uri": "https://localhost:8080/"
        },
        "id": "LwbuQ-lWIu4_",
        "outputId": "3faf271b-2468-4800-9647-f2754797298d"
      },
      "execution_count": null,
      "outputs": [
        {
          "output_type": "stream",
          "name": "stdout",
          "text": [
            "SP500 Growth:  80.75151917783086\n",
            "IPC Mexico Growth:  28.43377484045295\n"
          ]
        }
      ]
    },
    {
      "cell_type": "markdown",
      "source": [
        "**Question 4:** Find the largest range ratio [=(max-min)/max] of Adj.Close prices in 2023\n"
      ],
      "metadata": {
        "id": "gqeelDoAIvwT"
      }
    },
    {
      "cell_type": "code",
      "source": [
        "start = \"2023-01-01\"\n",
        "end = \"2023-12-31\"\n",
        "\n",
        "top6_earnings = [\"2222.SR\", \"BRK-B\", \"AAPL\", \"MSFT\", \"GOOG\", \"JPM\"]\n",
        "\n",
        "for company in top6_earnings:\n",
        "  financial_data = yf.download(tickers = company,\n",
        "                     start=start,\n",
        "                     end=end,\n",
        "                     interval = \"1d\")\n",
        "\n",
        "  adj_close_max = financial_data[\"Adj Close\"].max()\n",
        "  adj_close_min = financial_data[\"Adj Close\"].min()\n",
        "  largest_range_ratio = round((adj_close_max - adj_close_min) / adj_close_max, 2)\n",
        "\n",
        "  print(\"Largest Rage Ratio of \", company, \": \", largest_range_ratio)"
      ],
      "metadata": {
        "colab": {
          "base_uri": "https://localhost:8080/"
        },
        "id": "7uuGZBPqI2i3",
        "outputId": "70933789-06e8-4cec-c049-cad858e323af"
      },
      "execution_count": null,
      "outputs": [
        {
          "output_type": "stream",
          "name": "stderr",
          "text": [
            "\r[*********************100%%**********************]  1 of 1 completed\n"
          ]
        },
        {
          "output_type": "stream",
          "name": "stdout",
          "text": [
            "Largest Rage Ratio of  2222.SR :  0.21\n"
          ]
        },
        {
          "output_type": "stream",
          "name": "stderr",
          "text": [
            "[*********************100%%**********************]  1 of 1 completed\n",
            "[*********************100%%**********************]  1 of 1 completed\n"
          ]
        },
        {
          "output_type": "stream",
          "name": "stdout",
          "text": [
            "Largest Rage Ratio of  BRK-B :  0.21\n",
            "Largest Rage Ratio of  AAPL :  0.37\n"
          ]
        },
        {
          "output_type": "stream",
          "name": "stderr",
          "text": [
            "[*********************100%%**********************]  1 of 1 completed\n",
            "[*********************100%%**********************]  1 of 1 completed\n"
          ]
        },
        {
          "output_type": "stream",
          "name": "stdout",
          "text": [
            "Largest Rage Ratio of  MSFT :  0.42\n",
            "Largest Rage Ratio of  GOOG :  0.39\n"
          ]
        },
        {
          "output_type": "stream",
          "name": "stderr",
          "text": [
            "\r[*********************100%%**********************]  1 of 1 completed"
          ]
        },
        {
          "output_type": "stream",
          "name": "stdout",
          "text": [
            "Largest Rage Ratio of  JPM :  0.28\n"
          ]
        },
        {
          "output_type": "stream",
          "name": "stderr",
          "text": [
            "\n"
          ]
        }
      ]
    },
    {
      "cell_type": "markdown",
      "source": [
        "**Question 5**: Find the largest dividend yield for the same set of stocks\n"
      ],
      "metadata": {
        "id": "wSLyL_QvI5kO"
      }
    },
    {
      "cell_type": "code",
      "source": [
        "start = \"2023-01-01\"\n",
        "end = \"2023-12-31\"\n",
        "\n",
        "dividend_yields = {}\n",
        "\n",
        "for company in top6_earnings:\n",
        "  financial_data = yf.Ticker(company)\n",
        "  historic_data = financial_data.history(interval=\"1d\", start=start, end=end)\n",
        "  total_dividends = historic_data[\"Dividends\"].sum()\n",
        "  last_trading_day_price = yf.download(tickers = company,\n",
        "                     start=start,\n",
        "                     end=end,\n",
        "                     interval = \"1d\")[\"Adj Close\"][-1]\n",
        "  yield_percentage = (total_dividends / last_trading_day_price) * 100\n",
        "  dividend_yields[company] = yield_percentage\n",
        "\n",
        "max_yield = round(max(dividend_yields.values()), 1)\n",
        "max_yield_company = max(dividend_yields, key=dividend_yields.get)\n",
        "\n",
        "print(\"Company Ticker: \", max_yield_company)\n",
        "print(\"Maximun Yield: \", max_yield)\n"
      ],
      "metadata": {
        "colab": {
          "base_uri": "https://localhost:8080/"
        },
        "id": "W-ZiOWNuI5Pk",
        "outputId": "edec1aa5-16d3-4e0c-fecb-f8a1234f466d"
      },
      "execution_count": null,
      "outputs": [
        {
          "output_type": "stream",
          "name": "stderr",
          "text": [
            "[*********************100%%**********************]  1 of 1 completed\n",
            "[*********************100%%**********************]  1 of 1 completed\n",
            "[*********************100%%**********************]  1 of 1 completed\n",
            "[*********************100%%**********************]  1 of 1 completed\n",
            "[*********************100%%**********************]  1 of 1 completed\n",
            "[*********************100%%**********************]  1 of 1 completed"
          ]
        },
        {
          "output_type": "stream",
          "name": "stdout",
          "text": [
            "Company Ticker:  2222.SR\n",
            "Maximun Yield:  2.8\n"
          ]
        },
        {
          "output_type": "stream",
          "name": "stderr",
          "text": [
            "\n"
          ]
        }
      ]
    },
    {
      "cell_type": "markdown",
      "source": [
        "**Question 6**:  Investigate new metrics"
      ],
      "metadata": {
        "id": "77HEwrDhI_ca"
      }
    },
    {
      "cell_type": "code",
      "source": [
        "ticker = \"AAPL\"\n",
        "\n",
        "company = yf.Ticker(ticker)\n",
        "stock_data = company.info\n",
        "\n",
        "\n",
        "current_price = stock_data[\"currentPrice\"]\n",
        "earning_per_share = stock_data[\"trailingPE\"]\n",
        "pe_ratio = current_price / earning_per_share\n",
        "\n",
        "print(\"Price-to-Earnings Ratio for: \", earning_per_share)\n",
        "\n",
        "net_icome = stock_data[\"netIncomeToCommon\"]\n",
        "total_shares = stock_data[\"sharesOutstanding\"]\n",
        "earnings_per_share = net_icome / total_shares\n",
        "\n",
        "print(\"Earnings per Share: \", earnings_per_share)\n",
        "\n",
        "company.get_earnings_dates()"
      ],
      "metadata": {
        "colab": {
          "base_uri": "https://localhost:8080/",
          "height": 492
        },
        "id": "N-S5LdBIJGXW",
        "outputId": "a34cd46a-df48-4836-c032-d8705f11acfd"
      },
      "execution_count": null,
      "outputs": [
        {
          "output_type": "stream",
          "name": "stdout",
          "text": [
            "Price-to-Earnings Ratio for:  25.835165\n",
            "Earnings per Share:  6.535011850148343\n"
          ]
        },
        {
          "output_type": "execute_result",
          "data": {
            "text/plain": [
              "                           EPS Estimate  Reported EPS  Surprise(%)\n",
              "Earnings Date                                                     \n",
              "2025-01-30 16:00:00-05:00           NaN           NaN          NaN\n",
              "2024-10-31 06:00:00-04:00           NaN           NaN          NaN\n",
              "2024-08-01 06:00:00-04:00           NaN           NaN          NaN\n",
              "2024-05-02 17:00:00-04:00          1.41           NaN          NaN\n",
              "2024-05-02 16:00:00-04:00          1.41           NaN          NaN\n",
              "2024-02-01 16:00:00-05:00          2.10          2.18       0.0390\n",
              "2023-11-02 16:00:00-04:00          1.39          1.46       0.0492\n",
              "2023-08-03 16:00:00-04:00          1.19          1.26       0.0549\n",
              "2023-05-04 16:00:00-04:00          1.43          1.52       0.0603\n",
              "2023-02-02 16:00:00-05:00          1.94          1.88      -0.0288\n",
              "2022-10-27 16:00:00-04:00          1.27          1.29       0.0155\n",
              "2022-07-28 16:00:00-04:00          1.16          1.20       0.0325"
            ],
            "text/html": [
              "\n",
              "  <div id=\"df-01f75ff6-210b-4050-be42-37c12b43f293\" class=\"colab-df-container\">\n",
              "    <div>\n",
              "<style scoped>\n",
              "    .dataframe tbody tr th:only-of-type {\n",
              "        vertical-align: middle;\n",
              "    }\n",
              "\n",
              "    .dataframe tbody tr th {\n",
              "        vertical-align: top;\n",
              "    }\n",
              "\n",
              "    .dataframe thead th {\n",
              "        text-align: right;\n",
              "    }\n",
              "</style>\n",
              "<table border=\"1\" class=\"dataframe\">\n",
              "  <thead>\n",
              "    <tr style=\"text-align: right;\">\n",
              "      <th></th>\n",
              "      <th>EPS Estimate</th>\n",
              "      <th>Reported EPS</th>\n",
              "      <th>Surprise(%)</th>\n",
              "    </tr>\n",
              "    <tr>\n",
              "      <th>Earnings Date</th>\n",
              "      <th></th>\n",
              "      <th></th>\n",
              "      <th></th>\n",
              "    </tr>\n",
              "  </thead>\n",
              "  <tbody>\n",
              "    <tr>\n",
              "      <th>2025-01-30 16:00:00-05:00</th>\n",
              "      <td>NaN</td>\n",
              "      <td>NaN</td>\n",
              "      <td>NaN</td>\n",
              "    </tr>\n",
              "    <tr>\n",
              "      <th>2024-10-31 06:00:00-04:00</th>\n",
              "      <td>NaN</td>\n",
              "      <td>NaN</td>\n",
              "      <td>NaN</td>\n",
              "    </tr>\n",
              "    <tr>\n",
              "      <th>2024-08-01 06:00:00-04:00</th>\n",
              "      <td>NaN</td>\n",
              "      <td>NaN</td>\n",
              "      <td>NaN</td>\n",
              "    </tr>\n",
              "    <tr>\n",
              "      <th>2024-05-02 17:00:00-04:00</th>\n",
              "      <td>1.41</td>\n",
              "      <td>NaN</td>\n",
              "      <td>NaN</td>\n",
              "    </tr>\n",
              "    <tr>\n",
              "      <th>2024-05-02 16:00:00-04:00</th>\n",
              "      <td>1.41</td>\n",
              "      <td>NaN</td>\n",
              "      <td>NaN</td>\n",
              "    </tr>\n",
              "    <tr>\n",
              "      <th>2024-02-01 16:00:00-05:00</th>\n",
              "      <td>2.10</td>\n",
              "      <td>2.18</td>\n",
              "      <td>0.0390</td>\n",
              "    </tr>\n",
              "    <tr>\n",
              "      <th>2023-11-02 16:00:00-04:00</th>\n",
              "      <td>1.39</td>\n",
              "      <td>1.46</td>\n",
              "      <td>0.0492</td>\n",
              "    </tr>\n",
              "    <tr>\n",
              "      <th>2023-08-03 16:00:00-04:00</th>\n",
              "      <td>1.19</td>\n",
              "      <td>1.26</td>\n",
              "      <td>0.0549</td>\n",
              "    </tr>\n",
              "    <tr>\n",
              "      <th>2023-05-04 16:00:00-04:00</th>\n",
              "      <td>1.43</td>\n",
              "      <td>1.52</td>\n",
              "      <td>0.0603</td>\n",
              "    </tr>\n",
              "    <tr>\n",
              "      <th>2023-02-02 16:00:00-05:00</th>\n",
              "      <td>1.94</td>\n",
              "      <td>1.88</td>\n",
              "      <td>-0.0288</td>\n",
              "    </tr>\n",
              "    <tr>\n",
              "      <th>2022-10-27 16:00:00-04:00</th>\n",
              "      <td>1.27</td>\n",
              "      <td>1.29</td>\n",
              "      <td>0.0155</td>\n",
              "    </tr>\n",
              "    <tr>\n",
              "      <th>2022-07-28 16:00:00-04:00</th>\n",
              "      <td>1.16</td>\n",
              "      <td>1.20</td>\n",
              "      <td>0.0325</td>\n",
              "    </tr>\n",
              "  </tbody>\n",
              "</table>\n",
              "</div>\n",
              "    <div class=\"colab-df-buttons\">\n",
              "\n",
              "  <div class=\"colab-df-container\">\n",
              "    <button class=\"colab-df-convert\" onclick=\"convertToInteractive('df-01f75ff6-210b-4050-be42-37c12b43f293')\"\n",
              "            title=\"Convert this dataframe to an interactive table.\"\n",
              "            style=\"display:none;\">\n",
              "\n",
              "  <svg xmlns=\"http://www.w3.org/2000/svg\" height=\"24px\" viewBox=\"0 -960 960 960\">\n",
              "    <path d=\"M120-120v-720h720v720H120Zm60-500h600v-160H180v160Zm220 220h160v-160H400v160Zm0 220h160v-160H400v160ZM180-400h160v-160H180v160Zm440 0h160v-160H620v160ZM180-180h160v-160H180v160Zm440 0h160v-160H620v160Z\"/>\n",
              "  </svg>\n",
              "    </button>\n",
              "\n",
              "  <style>\n",
              "    .colab-df-container {\n",
              "      display:flex;\n",
              "      gap: 12px;\n",
              "    }\n",
              "\n",
              "    .colab-df-convert {\n",
              "      background-color: #E8F0FE;\n",
              "      border: none;\n",
              "      border-radius: 50%;\n",
              "      cursor: pointer;\n",
              "      display: none;\n",
              "      fill: #1967D2;\n",
              "      height: 32px;\n",
              "      padding: 0 0 0 0;\n",
              "      width: 32px;\n",
              "    }\n",
              "\n",
              "    .colab-df-convert:hover {\n",
              "      background-color: #E2EBFA;\n",
              "      box-shadow: 0px 1px 2px rgba(60, 64, 67, 0.3), 0px 1px 3px 1px rgba(60, 64, 67, 0.15);\n",
              "      fill: #174EA6;\n",
              "    }\n",
              "\n",
              "    .colab-df-buttons div {\n",
              "      margin-bottom: 4px;\n",
              "    }\n",
              "\n",
              "    [theme=dark] .colab-df-convert {\n",
              "      background-color: #3B4455;\n",
              "      fill: #D2E3FC;\n",
              "    }\n",
              "\n",
              "    [theme=dark] .colab-df-convert:hover {\n",
              "      background-color: #434B5C;\n",
              "      box-shadow: 0px 1px 3px 1px rgba(0, 0, 0, 0.15);\n",
              "      filter: drop-shadow(0px 1px 2px rgba(0, 0, 0, 0.3));\n",
              "      fill: #FFFFFF;\n",
              "    }\n",
              "  </style>\n",
              "\n",
              "    <script>\n",
              "      const buttonEl =\n",
              "        document.querySelector('#df-01f75ff6-210b-4050-be42-37c12b43f293 button.colab-df-convert');\n",
              "      buttonEl.style.display =\n",
              "        google.colab.kernel.accessAllowed ? 'block' : 'none';\n",
              "\n",
              "      async function convertToInteractive(key) {\n",
              "        const element = document.querySelector('#df-01f75ff6-210b-4050-be42-37c12b43f293');\n",
              "        const dataTable =\n",
              "          await google.colab.kernel.invokeFunction('convertToInteractive',\n",
              "                                                    [key], {});\n",
              "        if (!dataTable) return;\n",
              "\n",
              "        const docLinkHtml = 'Like what you see? Visit the ' +\n",
              "          '<a target=\"_blank\" href=https://colab.research.google.com/notebooks/data_table.ipynb>data table notebook</a>'\n",
              "          + ' to learn more about interactive tables.';\n",
              "        element.innerHTML = '';\n",
              "        dataTable['output_type'] = 'display_data';\n",
              "        await google.colab.output.renderOutput(dataTable, element);\n",
              "        const docLink = document.createElement('div');\n",
              "        docLink.innerHTML = docLinkHtml;\n",
              "        element.appendChild(docLink);\n",
              "      }\n",
              "    </script>\n",
              "  </div>\n",
              "\n",
              "\n",
              "<div id=\"df-c752f913-635b-4d36-92e2-90967522e0cf\">\n",
              "  <button class=\"colab-df-quickchart\" onclick=\"quickchart('df-c752f913-635b-4d36-92e2-90967522e0cf')\"\n",
              "            title=\"Suggest charts\"\n",
              "            style=\"display:none;\">\n",
              "\n",
              "<svg xmlns=\"http://www.w3.org/2000/svg\" height=\"24px\"viewBox=\"0 0 24 24\"\n",
              "     width=\"24px\">\n",
              "    <g>\n",
              "        <path d=\"M19 3H5c-1.1 0-2 .9-2 2v14c0 1.1.9 2 2 2h14c1.1 0 2-.9 2-2V5c0-1.1-.9-2-2-2zM9 17H7v-7h2v7zm4 0h-2V7h2v10zm4 0h-2v-4h2v4z\"/>\n",
              "    </g>\n",
              "</svg>\n",
              "  </button>\n",
              "\n",
              "<style>\n",
              "  .colab-df-quickchart {\n",
              "      --bg-color: #E8F0FE;\n",
              "      --fill-color: #1967D2;\n",
              "      --hover-bg-color: #E2EBFA;\n",
              "      --hover-fill-color: #174EA6;\n",
              "      --disabled-fill-color: #AAA;\n",
              "      --disabled-bg-color: #DDD;\n",
              "  }\n",
              "\n",
              "  [theme=dark] .colab-df-quickchart {\n",
              "      --bg-color: #3B4455;\n",
              "      --fill-color: #D2E3FC;\n",
              "      --hover-bg-color: #434B5C;\n",
              "      --hover-fill-color: #FFFFFF;\n",
              "      --disabled-bg-color: #3B4455;\n",
              "      --disabled-fill-color: #666;\n",
              "  }\n",
              "\n",
              "  .colab-df-quickchart {\n",
              "    background-color: var(--bg-color);\n",
              "    border: none;\n",
              "    border-radius: 50%;\n",
              "    cursor: pointer;\n",
              "    display: none;\n",
              "    fill: var(--fill-color);\n",
              "    height: 32px;\n",
              "    padding: 0;\n",
              "    width: 32px;\n",
              "  }\n",
              "\n",
              "  .colab-df-quickchart:hover {\n",
              "    background-color: var(--hover-bg-color);\n",
              "    box-shadow: 0 1px 2px rgba(60, 64, 67, 0.3), 0 1px 3px 1px rgba(60, 64, 67, 0.15);\n",
              "    fill: var(--button-hover-fill-color);\n",
              "  }\n",
              "\n",
              "  .colab-df-quickchart-complete:disabled,\n",
              "  .colab-df-quickchart-complete:disabled:hover {\n",
              "    background-color: var(--disabled-bg-color);\n",
              "    fill: var(--disabled-fill-color);\n",
              "    box-shadow: none;\n",
              "  }\n",
              "\n",
              "  .colab-df-spinner {\n",
              "    border: 2px solid var(--fill-color);\n",
              "    border-color: transparent;\n",
              "    border-bottom-color: var(--fill-color);\n",
              "    animation:\n",
              "      spin 1s steps(1) infinite;\n",
              "  }\n",
              "\n",
              "  @keyframes spin {\n",
              "    0% {\n",
              "      border-color: transparent;\n",
              "      border-bottom-color: var(--fill-color);\n",
              "      border-left-color: var(--fill-color);\n",
              "    }\n",
              "    20% {\n",
              "      border-color: transparent;\n",
              "      border-left-color: var(--fill-color);\n",
              "      border-top-color: var(--fill-color);\n",
              "    }\n",
              "    30% {\n",
              "      border-color: transparent;\n",
              "      border-left-color: var(--fill-color);\n",
              "      border-top-color: var(--fill-color);\n",
              "      border-right-color: var(--fill-color);\n",
              "    }\n",
              "    40% {\n",
              "      border-color: transparent;\n",
              "      border-right-color: var(--fill-color);\n",
              "      border-top-color: var(--fill-color);\n",
              "    }\n",
              "    60% {\n",
              "      border-color: transparent;\n",
              "      border-right-color: var(--fill-color);\n",
              "    }\n",
              "    80% {\n",
              "      border-color: transparent;\n",
              "      border-right-color: var(--fill-color);\n",
              "      border-bottom-color: var(--fill-color);\n",
              "    }\n",
              "    90% {\n",
              "      border-color: transparent;\n",
              "      border-bottom-color: var(--fill-color);\n",
              "    }\n",
              "  }\n",
              "</style>\n",
              "\n",
              "  <script>\n",
              "    async function quickchart(key) {\n",
              "      const quickchartButtonEl =\n",
              "        document.querySelector('#' + key + ' button');\n",
              "      quickchartButtonEl.disabled = true;  // To prevent multiple clicks.\n",
              "      quickchartButtonEl.classList.add('colab-df-spinner');\n",
              "      try {\n",
              "        const charts = await google.colab.kernel.invokeFunction(\n",
              "            'suggestCharts', [key], {});\n",
              "      } catch (error) {\n",
              "        console.error('Error during call to suggestCharts:', error);\n",
              "      }\n",
              "      quickchartButtonEl.classList.remove('colab-df-spinner');\n",
              "      quickchartButtonEl.classList.add('colab-df-quickchart-complete');\n",
              "    }\n",
              "    (() => {\n",
              "      let quickchartButtonEl =\n",
              "        document.querySelector('#df-c752f913-635b-4d36-92e2-90967522e0cf button');\n",
              "      quickchartButtonEl.style.display =\n",
              "        google.colab.kernel.accessAllowed ? 'block' : 'none';\n",
              "    })();\n",
              "  </script>\n",
              "</div>\n",
              "    </div>\n",
              "  </div>\n"
            ],
            "application/vnd.google.colaboratory.intrinsic+json": {
              "type": "dataframe",
              "summary": "{\n  \"name\": \"company\",\n  \"rows\": 12,\n  \"fields\": [\n    {\n      \"column\": \"Earnings Date\",\n      \"properties\": {\n        \"dtype\": \"date\",\n        \"min\": \"2022-07-28 16:00:00-04:00\",\n        \"max\": \"2025-01-30 16:00:00-05:00\",\n        \"num_unique_values\": 12,\n        \"samples\": [\n          \"2022-10-27 16:00:00-04:00\",\n          \"2023-02-02 16:00:00-05:00\",\n          \"2025-01-30 16:00:00-05:00\"\n        ],\n        \"semantic_type\": \"\",\n        \"description\": \"\"\n      }\n    },\n    {\n      \"column\": \"EPS Estimate\",\n      \"properties\": {\n        \"dtype\": \"number\",\n        \"std\": 0.3253758510468232,\n        \"min\": 1.16,\n        \"max\": 2.1,\n        \"num_unique_values\": 8,\n        \"samples\": [\n          2.1,\n          1.94,\n          1.41\n        ],\n        \"semantic_type\": \"\",\n        \"description\": \"\"\n      }\n    },\n    {\n      \"column\": \"Reported EPS\",\n      \"properties\": {\n        \"dtype\": \"number\",\n        \"std\": 0.36251108357440015,\n        \"min\": 1.2,\n        \"max\": 2.18,\n        \"num_unique_values\": 7,\n        \"samples\": [\n          2.18,\n          1.46,\n          1.29\n        ],\n        \"semantic_type\": \"\",\n        \"description\": \"\"\n      }\n    },\n    {\n      \"column\": \"Surprise(%)\",\n      \"properties\": {\n        \"dtype\": \"number\",\n        \"std\": 0.030656701279383167,\n        \"min\": -0.0288,\n        \"max\": 0.060300000000000006,\n        \"num_unique_values\": 7,\n        \"samples\": [\n          0.039,\n          0.0492,\n          0.015500000000000002\n        ],\n        \"semantic_type\": \"\",\n        \"description\": \"\"\n      }\n    }\n  ]\n}"
            }
          },
          "metadata": {},
          "execution_count": 85
        }
      ]
    },
    {
      "cell_type": "markdown",
      "source": [
        "**Question 7:** Time-driven strategy description around earnings releases"
      ],
      "metadata": {
        "id": "YZjpYGOEJG4M"
      }
    },
    {
      "cell_type": "code",
      "source": [
        "# I was not able to use YahooEarningsCalendar() class from yahoo-earning-calendar due the following error\n",
        "# ---------------------------------------------------------------------------\n",
        "# TypeError                                 Traceback (most recent call last)\n",
        "# <ipython-input-108-f054d775d08d> in <cell line: 5>()\n",
        "#       3\n",
        "#       4 yec = YahooEarningsCalendar()\n",
        "# ----> 5 yec.earnings_on(date_from)\n",
        "\n",
        "# /usr/local/lib/python3.10/dist-packages/yahoo_earnings_calendar/scraper.py in earnings_on(self, date, offset, count)\n",
        "#      93         page_data_dict = self._get_data_dict(dated_url)\n",
        "#      94         stores_dict = page_data_dict['context']['dispatcher']['stores']\n",
        "# ---> 95         earnings_count = stores_dict['ScreenerCriteriaStore']['meta']['total']\n",
        "#      96\n",
        "#      97         # Recursively fetch more earnings on this date\n",
        "\n",
        "# TypeError: string indices must be integers\n",
        "\n"
      ],
      "metadata": {
        "id": "6Q1ZT1GlJNGm"
      },
      "execution_count": null,
      "outputs": []
    },
    {
      "cell_type": "markdown",
      "source": [
        "My ideia where was to:\n",
        "\n",
        "1. Fetch the Earnings Data based on the dates mentioned in the assignment - using yahoo-earning-calendar package.\n",
        "2. From that data, I would extract the most relevant information such as company names, earnings dates, EPS reported, reported EPS and surprise (%).\n",
        "3. Based on that information, I would filter the companies based on my investment strategy. Here, I could define my hypotetical strategy: companies with a history of positive earnings surprises and good revenue growth.\n",
        "4. Having this list of companies, I would perform statistical analysis calculating the most important metrics."
      ],
      "metadata": {
        "id": "I1pDD2LM26G3"
      }
    }
  ]
}